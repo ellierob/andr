{
 "cells": [
  {
   "cell_type": "code",
   "execution_count": null,
   "metadata": {
    "vscode": {
     "languageId": "shellscript"
    }
   },
   "outputs": [],
   "source": [
    "# cd ~\n",
    "cd ~/Android-Sdk\n",
    "# sudo apt-get install unzip\n",
    "wget https://dl.google.com/android/repository/sdk-tools-linux-4333796.zip\n",
    "# unzip sdk-tools-linux-4333796.zip -d Android\n",
    "# bsdtar xvf commandlinetools-linux-10406996_latest.zip -C ~/Android-Sdk\n",
    "bsdtar xvf sdk-tools-linux-4333796.zip -C ~/Android-Sdk\n",
    "# rm sdk-tools-linux-4333796.zip"
   ]
  },
  {
   "cell_type": "code",
   "execution_count": null,
   "metadata": {
    "vscode": {
     "languageId": "shellscript"
    }
   },
   "outputs": [],
   "source": [
    "# sudo apt-get install -y lib32z1 openjdk-8-jdk\n",
    "# sudo pacman -S lib32z1\n",
    "sudo pacman -S jdk8-openjdk\n",
    "sudo archlinux-java set java-8-openjdk"
   ]
  },
  {
   "cell_type": "raw",
   "metadata": {},
   "source": [
    "# export JAVA_HOME=/usr/lib/jvm/java-8-openjdk-amd64\n",
    "# export JAVA_HOME=/usr/lib/jvm/default\n",
    "# export PATH=$PATH:$JAVA_HOME/bin\n",
    "# printf \"\\n\\nexport JAVA_HOME=/usr/lib/jvm/java-8-openjdk-amd64\\nexport PATH=\\$PATH:\\$JAVA_HOME/bin\" >> ~/.bashrc\n",
    "\n",
    "# in ~/.vars\n",
    "export JAVA_HOME=\"/usr/lib/jvm/default\"\n",
    "export PATH=\"$JAVA_HOME/bin:$PATH\""
   ]
  },
  {
   "cell_type": "code",
   "execution_count": null,
   "metadata": {
    "vscode": {
     "languageId": "shellscript"
    }
   },
   "outputs": [],
   "source": [
    "# cd ~/Android-Sdk/tools/bin\n",
    "# ./sdkmanager \"platform-tools\" \"platforms;android-26\" \"build-tools;26.0.3\"\n",
    "# sdkmanager \"platform-tools\" \"platforms;android-26\" \"build-tools;26.0.3\"\n",
    "# sdkmanager  --install  \"platform-tools\" \"platforms;android-26\" \"build-tools;26.0.3\"\n",
    "sdkmanager  \"platform-tools\" \"platforms;android-26\" \"build-tools;26.0.3\" --sdk_root=$ANDROID_HOME\n",
    "# sdkmanager  --install  \"platform-tools\" \"platforms;android-26\" \"build-tools;26.0.3\" --sdk_root=$ANDROID_HOME"
   ]
  },
  {
   "cell_type": "code",
   "execution_count": null,
   "metadata": {
    "vscode": {
     "languageId": "shellscript"
    }
   },
   "outputs": [],
   "source": [
    "sdkmanager --update --sdk_root=$ANDROID_HOME #updates the tools\n",
    "sdkmanager \"tools\"  --sdk_root=$ANDROID_HOME\n",
    "sdkmanager \"build-tools;$version\" --sdk_root=$ANDROID_HOME\n",
    "sdkmanager \"platforms;android-$version\" --sdk_root=$ANDROID_HOME\n",
    "sdkmanager --help #for help"
   ]
  },
  {
   "cell_type": "raw",
   "metadata": {},
   "source": [
    "# export ANDROID_HOME=~/Android\n",
    "# export PATH=$PATH:$ANDROID_HOME/tools\n",
    "# export PATH=$PATH:$ANDROID_HOME/platform-tools\n",
    "# printf \"\\n\\nexport ANDROID_HOME=/home/<user>/Android\\nexport PATH=\\$PATH:\\$ANDROID_HOME/tools\\nexport PATH=\\$PATH:\\$ANDROID_HOME/platform-tools\" >> ~/.bashrc\n",
    "\n",
    "# inside ~/.vars append\n",
    "#set PATH so it includes Android-Sdk if it exists\n",
    "if [ -d \"$HOME/Android-Sdk\" ] ; then\n",
    "    ANDROID_HOME=\"$HOME/Android-Sdk\" #location same as step 3\n",
    "    PATH=\"$ANDROID_HOME/emulator:$PATH\"\n",
    "    PATH=\"$ANDROID_HOME/tools:$PATH\"\n",
    "    PATH=\"$ANDROID_HOME/tools/bin:$PATH\"\n",
    "    PATH=\"$ANDROID_HOME/platform-tools:$PATH\"\n",
    "fi"
   ]
  },
  {
   "cell_type": "code",
   "execution_count": null,
   "metadata": {
    "vscode": {
     "languageId": "shellscript"
    }
   },
   "outputs": [],
   "source": [
    "android update sdk --no-ui"
   ]
  },
  {
   "cell_type": "code",
   "execution_count": null,
   "metadata": {
    "vscode": {
     "languageId": "shellscript"
    }
   },
   "outputs": [],
   "source": [
    "sudo apt-get install gradle"
   ]
  },
  {
   "cell_type": "code",
   "execution_count": null,
   "metadata": {
    "vscode": {
     "languageId": "shellscript"
    }
   },
   "outputs": [],
   "source": [
    "gradle -v"
   ]
  },
  {
   "cell_type": "markdown",
   "metadata": {},
   "source": [
    "## ADB"
   ]
  },
  {
   "cell_type": "code",
   "execution_count": null,
   "metadata": {
    "vscode": {
     "languageId": "shellscript"
    }
   },
   "outputs": [],
   "source": [
    "adb --version"
   ]
  },
  {
   "cell_type": "code",
   "execution_count": null,
   "metadata": {
    "vscode": {
     "languageId": "shellscript"
    }
   },
   "outputs": [],
   "source": [
    "#to stop previously running server\n",
    "adb kill-server"
   ]
  },
  {
   "cell_type": "code",
   "execution_count": null,
   "metadata": {
    "vscode": {
     "languageId": "powershell"
    }
   },
   "outputs": [],
   "source": [
    "# in windows powershell\n",
    "adb -a -P 5037 nodaemon server"
   ]
  },
  {
   "cell_type": "raw",
   "metadata": {},
   "source": [
    "# doesn't work android studio doesn't handle var well\n",
    "# in ~/.vars\n",
    "# export ADB_SERVER_SOCKET=tcp:$(grep nameserver /etc/resolv.conf | awk '{print $2}'):5037"
   ]
  },
  {
   "cell_type": "code",
   "execution_count": null,
   "metadata": {
    "vscode": {
     "languageId": "shellscript"
    }
   },
   "outputs": [],
   "source": [
    "socat -d -d TCP-LISTEN:5037,reuseaddr,fork TCP:$(grep nameserver /etc/resolv.conf | awk '{print $2}'):5037\n",
    "# ncat -l -p 5037 --exec \"nc $(grep nameserver /etc/resolv.conf | awk '{print $2}') 5037\""
   ]
  },
  {
   "cell_type": "code",
   "execution_count": null,
   "metadata": {
    "vscode": {
     "languageId": "shellscript"
    }
   },
   "outputs": [],
   "source": [
    "export ADB_SERVER_SOCKET=tcp:$(grep nameserver /etc/resolv.conf | awk '{print $2}'):5037\n",
    "adb start-server\n",
    "\n",
    "adb connect 127.0.0.1:61226\n",
    "# adb connect $(grep nameserver /etc/resolv.conf | awk '{print $2}'):61226\n",
    "\n",
    "#then use same command wsl to make device visible.\n",
    "adb devices"
   ]
  },
  {
   "cell_type": "code",
   "execution_count": null,
   "metadata": {
    "vscode": {
     "languageId": "shellscript"
    }
   },
   "outputs": [],
   "source": [
    "# in /etc/profile\n",
    "\n",
    "export DISPLAY=$(grep nameserver /etc/resolv.conf| awk '{print $2}'):0.0"
   ]
  }
 ],
 "metadata": {
  "language_info": {
   "name": "python"
  }
 },
 "nbformat": 4,
 "nbformat_minor": 2
}
