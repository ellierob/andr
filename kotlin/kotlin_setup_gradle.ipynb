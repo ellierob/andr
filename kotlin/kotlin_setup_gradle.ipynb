{
 "cells": [
  {
   "cell_type": "code",
   "execution_count": null,
   "metadata": {
    "vscode": {
     "languageId": "shellscript"
    }
   },
   "outputs": [],
   "source": [
    "ln -s /home/gnostic/Golem/be/andr/.java ~/.java\n",
    "ln -s /home/gnostic/Golem/be/andr/.javacache ~/.cache/java\n",
    "ln -s /home/gnostic/Golem/be/andr/.gradle ~/.gradle\n",
    "ln -s /home/gnostic/Golem/be/andr/.gradlefiles ~/.gradlefiles\n",
    "ln -s /home/gnostic/Golem/be/andr/.gradlecache ~/.cache/gradle"
   ]
  },
  {
   "attachments": {},
   "cell_type": "markdown",
   "metadata": {},
   "source": [
    "## jdk\n",
    "jdk contains\n",
    "* jre contains\n",
    "* * jvm"
   ]
  },
  {
   "cell_type": "code",
   "execution_count": null,
   "metadata": {
    "vscode": {
     "languageId": "shellscript"
    }
   },
   "outputs": [],
   "source": [
    "!sudo pacman -sS | grep jre\n",
    "!sudo pacman -S jre17-openjdk\n",
    "!sudo pacman -sS | grep jdk\n",
    "!sudo pacman -S jdk17-openjdk"
   ]
  },
  {
   "cell_type": "raw",
   "metadata": {},
   "source": [
    "# add to ~/.vars\n",
    "# nano ~/.vars\n",
    "export PATH=\"/usr/lib/jvm/default/bin:$PATH"
   ]
  },
  {
   "cell_type": "code",
   "execution_count": null,
   "metadata": {
    "vscode": {
     "languageId": "shellscript"
    }
   },
   "outputs": [],
   "source": [
    "!java --version\n",
    "!which java"
   ]
  },
  {
   "cell_type": "code",
   "execution_count": null,
   "metadata": {
    "vscode": {
     "languageId": "shellscript"
    }
   },
   "outputs": [],
   "source": [
    "!archlinux-java status"
   ]
  },
  {
   "attachments": {},
   "cell_type": "markdown",
   "metadata": {},
   "source": [
    "## install"
   ]
  },
  {
   "cell_type": "code",
   "execution_count": null,
   "metadata": {
    "vscode": {
     "languageId": "shellscript"
    }
   },
   "outputs": [],
   "source": [
    "!yay -S kotlin"
   ]
  },
  {
   "cell_type": "code",
   "execution_count": null,
   "metadata": {
    "vscode": {
     "languageId": "shellscript"
    }
   },
   "outputs": [],
   "source": [
    "!kotlin -version"
   ]
  },
  {
   "attachments": {},
   "cell_type": "markdown",
   "metadata": {},
   "source": [
    "## compile"
   ]
  },
  {
   "cell_type": "code",
   "execution_count": null,
   "metadata": {
    "vscode": {
     "languageId": "shellscript"
    }
   },
   "outputs": [],
   "source": [
    "!kotlinc app/src/main/kotlin/andr3/app/hello.kt -d ./"
   ]
  },
  {
   "attachments": {},
   "cell_type": "markdown",
   "metadata": {},
   "source": [
    "## run"
   ]
  },
  {
   "cell_type": "code",
   "execution_count": null,
   "metadata": {
    "vscode": {
     "languageId": "shellscript"
    }
   },
   "outputs": [],
   "source": [
    "# !kotlin ./HelloKt.class\n",
    "!kotlin HelloKt"
   ]
  },
  {
   "cell_type": "code",
   "execution_count": null,
   "metadata": {
    "vscode": {
     "languageId": "shellscript"
    }
   },
   "outputs": [],
   "source": [
    "!kotlin"
   ]
  }
 ],
 "metadata": {
  "language_info": {
   "name": "python"
  },
  "orig_nbformat": 4
 },
 "nbformat": 4,
 "nbformat_minor": 2
}
