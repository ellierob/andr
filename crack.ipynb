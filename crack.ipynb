{
 "cells": [
  {
   "attachments": {},
   "cell_type": "markdown",
   "metadata": {},
   "source": [
    "## install dex2jar"
   ]
  },
  {
   "cell_type": "code",
   "execution_count": null,
   "metadata": {
    "vscode": {
     "languageId": "shellscript"
    }
   },
   "outputs": [],
   "source": [
    "yay -S dex2jar\n",
    "# !git clone git@github.com:pxb1988/dex2jar.git\n",
    "# !dex2jar/gradlew distZip\n",
    "# !unzip dex2jar/dex-tools/build/distributions/dex-tools-2.1-SNAPSHOT.zip"
   ]
  },
  {
   "attachments": {},
   "cell_type": "markdown",
   "metadata": {},
   "source": [
    "## use dex2jar"
   ]
  },
  {
   "cell_type": "code",
   "execution_count": null,
   "metadata": {
    "vscode": {
     "languageId": "shellscript"
    }
   },
   "outputs": [],
   "source": [
    "!sudo dex2jar -f apk/Reasily.apk -o apk/Reasily2.jar\n",
    "# !sh d2j-dex2jar.sh -f apk/Reasily.apk"
   ]
  },
  {
   "cell_type": "code",
   "execution_count": null,
   "metadata": {
    "vscode": {
     "languageId": "shellscript"
    }
   },
   "outputs": [],
   "source": [
    "sudo cp apk/Reasily.apk apk/Reasily.zip\n",
    "sudo bsdtar xvf apk/Reasily.zip -C apk/Reasily\n",
    "rm apk/Reasily.zip\n",
    "# dex2jar-2.0/d2j-dex2jar.sh apk/Reasily/classes.dex -o apk/Reasily.jar\n",
    "dex2jar apk/Reasily/classes.dex -o apk/Reasily.jar"
   ]
  },
  {
   "attachments": {},
   "cell_type": "markdown",
   "metadata": {},
   "source": [
    "## krakatau"
   ]
  },
  {
   "cell_type": "code",
   "execution_count": null,
   "metadata": {
    "vscode": {
     "languageId": "shellscript"
    }
   },
   "outputs": [],
   "source": [
    "!yay -S krakatau-git"
   ]
  },
  {
   "cell_type": "code",
   "execution_count": null,
   "metadata": {
    "vscode": {
     "languageId": "shellscript"
    }
   },
   "outputs": [],
   "source": [
    "!krak2 dis --out apk/Reasily.dis.zip --roundtrip apk/Reasily/classes-dex2jar.jar"
   ]
  },
  {
   "cell_type": "code",
   "execution_count": null,
   "metadata": {
    "vscode": {
     "languageId": "shellscript"
    }
   },
   "outputs": [],
   "source": [
    "!krak2 asm --out apkmod/Reasily.jar -r Krakatau/tests/decompiler/source/"
   ]
  },
  {
   "attachments": {},
   "cell_type": "markdown",
   "metadata": {},
   "source": [
    "## apktool"
   ]
  },
  {
   "cell_type": "code",
   "execution_count": null,
   "metadata": {
    "vscode": {
     "languageId": "shellscript"
    }
   },
   "outputs": [],
   "source": [
    "!curl -L https://raw.githubusercontent.com/iBotPeaches/Apktool/master/scripts/linux/apktool -o apktool\n",
    "!curl -L https://bitbucket.org/iBotPeaches/apktool/downloads/apktool_2.7.0.jar -o apktool.jar\n",
    "!sudo mv apktool /usr/local/bin/apktool\n",
    "!sudo mv apktool.jar /usr/local/bin/apktool.jar\n",
    "!sudo ls -la /usr/local/bin/apktool.jar\n",
    "!sudo ls -la /usr/local/bin/apktool\n",
    "!sudo chmod +x /usr/local/bin/apktool.jar /usr/local/bin/apktool"
   ]
  },
  {
   "cell_type": "code",
   "execution_count": null,
   "metadata": {
    "vscode": {
     "languageId": "shellscript"
    }
   },
   "outputs": [],
   "source": [
    "!apktool --version"
   ]
  },
  {
   "cell_type": "code",
   "execution_count": null,
   "metadata": {
    "vscode": {
     "languageId": "shellscript"
    }
   },
   "outputs": [],
   "source": [
    "!apktool if framework-res.apk"
   ]
  },
  {
   "cell_type": "code",
   "execution_count": null,
   "metadata": {
    "vscode": {
     "languageId": "shellscript"
    }
   },
   "outputs": [],
   "source": [
    "!sudo apktool d apk/Reasily.apk -o apk/Reasily2/"
   ]
  },
  {
   "cell_type": "code",
   "execution_count": null,
   "metadata": {
    "vscode": {
     "languageId": "shellscript"
    }
   },
   "outputs": [],
   "source": [
    "!sudo apktool b apkmod/Reasily -o apkmod/Reasily.apk"
   ]
  }
 ],
 "metadata": {
  "language_info": {
   "name": "python"
  },
  "orig_nbformat": 4
 },
 "nbformat": 4,
 "nbformat_minor": 2
}
